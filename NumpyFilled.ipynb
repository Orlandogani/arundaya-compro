{
 "cells": [
  {
   "cell_type": "markdown",
   "id": "b94c6173",
   "metadata": {},
   "source": [
    "## Numpy Guide and Exercises"
   ]
  },
  {
   "cell_type": "code",
   "execution_count": 1,
   "id": "047b7303",
   "metadata": {},
   "outputs": [],
   "source": [
    "import numpy as np"
   ]
  },
  {
   "cell_type": "code",
   "execution_count": 3,
   "id": "89506467",
   "metadata": {},
   "outputs": [
    {
     "data": {
      "text/plain": [
       "array([0., 0., 0., 0., 0., 0., 0., 0., 0.])"
      ]
     },
     "execution_count": 3,
     "metadata": {},
     "output_type": "execute_result"
    }
   ],
   "source": [
    "np.zeros(9)"
   ]
  },
  {
   "cell_type": "markdown",
   "id": "5cc21246",
   "metadata": {},
   "source": [
    "![zeros](./images/zeros.png)"
   ]
  },
  {
   "cell_type": "code",
   "execution_count": 9,
   "id": "699e9a37",
   "metadata": {},
   "outputs": [
    {
     "data": {
      "text/plain": [
       "array([1., 1., 1., 1., 1., 1., 1., 1., 1.])"
      ]
     },
     "execution_count": 9,
     "metadata": {},
     "output_type": "execute_result"
    }
   ],
   "source": [
    "np.ones(9)"
   ]
  },
  {
   "cell_type": "markdown",
   "id": "8acb887a",
   "metadata": {},
   "source": [
    "![zeros](./images/ones.png)"
   ]
  },
  {
   "cell_type": "code",
   "execution_count": 62,
   "id": "17f2b2f4",
   "metadata": {},
   "outputs": [
    {
     "data": {
      "text/plain": [
       "array([[1, 0, 0],\n",
       "       [0, 0, 0],\n",
       "       [0, 1, 0]])"
      ]
     },
     "execution_count": 62,
     "metadata": {},
     "output_type": "execute_result"
    }
   ],
   "source": [
    "np.array([1,0,0,0,0,0,0,1,0])"
   ]
  },
  {
   "cell_type": "markdown",
   "id": "8265121f",
   "metadata": {},
   "source": [
    "![zeros](./images/onezeros.png)"
   ]
  },
  {
   "cell_type": "code",
   "execution_count": 15,
   "id": "d7613719",
   "metadata": {},
   "outputs": [
    {
     "data": {
      "text/plain": [
       "array([0, 1, 2, 3, 4, 5, 6, 7, 8])"
      ]
     },
     "execution_count": 15,
     "metadata": {},
     "output_type": "execute_result"
    }
   ],
   "source": [
    "np.arange(0,9)"
   ]
  },
  {
   "cell_type": "markdown",
   "id": "533f71dd",
   "metadata": {},
   "source": [
    "![zeros](./images/arange.png)"
   ]
  },
  {
   "cell_type": "markdown",
   "id": "5e06248c",
   "metadata": {},
   "source": [
    "### Exercise 1: Creating Arrays\n",
    "Task: Create the following arrays using NumPy:\n",
    "\n",
    "1. A 1D array with values from 0 to 9.\n",
    "\n",
    "1. A 2D array of shape (3, 3) filled with zeros.\n",
    "\n",
    "1. A 2D array of shape (2, 4) filled with ones.\n",
    "\n",
    "1. A 1D array with 10 evenly spaced values between 0 and 1."
   ]
  },
  {
   "cell_type": "code",
   "execution_count": 19,
   "id": "10f53309",
   "metadata": {},
   "outputs": [
    {
     "data": {
      "text/plain": [
       "array([[0],\n",
       "       [1],\n",
       "       [2],\n",
       "       [3],\n",
       "       [4],\n",
       "       [5],\n",
       "       [6],\n",
       "       [7],\n",
       "       [8]])"
      ]
     },
     "execution_count": 19,
     "metadata": {},
     "output_type": "execute_result"
    }
   ],
   "source": [
    "np.arange(0,9).reshape(9,1)"
   ]
  },
  {
   "cell_type": "markdown",
   "id": "041b3d5c",
   "metadata": {},
   "source": [
    "![zeros](./images/arange2.png)"
   ]
  },
  {
   "cell_type": "code",
   "execution_count": 21,
   "id": "af461979",
   "metadata": {},
   "outputs": [
    {
     "data": {
      "text/plain": [
       "array([[0, 1, 2],\n",
       "       [3, 4, 5],\n",
       "       [6, 7, 8]])"
      ]
     },
     "execution_count": 21,
     "metadata": {},
     "output_type": "execute_result"
    }
   ],
   "source": [
    "np.arange(0,9).reshape(3,3)"
   ]
  },
  {
   "cell_type": "markdown",
   "id": "ef93ec62",
   "metadata": {},
   "source": [
    "![zeros](./images/reshape33.png)"
   ]
  },
  {
   "cell_type": "markdown",
   "id": "b09f0318",
   "metadata": {},
   "source": [
    "## Your Turn\n",
    "\n",
    "Generate the followin array using reshape\n",
    "\n",
    "![](./images/reshape1.png)\n",
    "![](./images/reshape2.png)\n",
    "![](./images/reshape3.png)"
   ]
  },
  {
   "cell_type": "code",
   "execution_count": 94,
   "id": "07a4dbd7",
   "metadata": {},
   "outputs": [
    {
     "data": {
      "text/plain": [
       "array([[0., 0., 0., 0.],\n",
       "       [0., 0., 0., 0.],\n",
       "       [0., 0., 1., 0.]])"
      ]
     },
     "execution_count": 94,
     "metadata": {},
     "output_type": "execute_result"
    }
   ],
   "source": [
    "z1 = np.zeros(12)\n",
    "z1[-2] = 1\n",
    "z1.reshape(3,4)"
   ]
  },
  {
   "cell_type": "code",
   "execution_count": 96,
   "id": "d7049e59-56aa-4453-a12c-002c3cf7791d",
   "metadata": {},
   "outputs": [
    {
     "data": {
      "text/plain": [
       "array([[0., 0., 0.],\n",
       "       [0., 0., 0.],\n",
       "       [0., 0., 0.],\n",
       "       [0., 1., 0.]])"
      ]
     },
     "execution_count": 96,
     "metadata": {},
     "output_type": "execute_result"
    }
   ],
   "source": [
    "z1 = np.zeros(12)\n",
    "z1[-2] = 1\n",
    "z1.reshape(4,3)"
   ]
  },
  {
   "cell_type": "code",
   "execution_count": 100,
   "id": "e04903d3-9906-47e4-b716-641e8f0a0dbf",
   "metadata": {},
   "outputs": [
    {
     "data": {
      "text/plain": [
       "array([[0., 0.],\n",
       "       [0., 0.],\n",
       "       [0., 0.],\n",
       "       [0., 0.],\n",
       "       [0., 0.],\n",
       "       [1., 0.]])"
      ]
     },
     "execution_count": 100,
     "metadata": {},
     "output_type": "execute_result"
    }
   ],
   "source": [
    "z1 = np.zeros(12)\n",
    "z1[-2] = 1\n",
    "z1.reshape(6,2)"
   ]
  },
  {
   "cell_type": "code",
   "execution_count": 70,
   "id": "4ab8556f-8f9c-490b-ad7c-ba70b2ee8e0f",
   "metadata": {},
   "outputs": [
    {
     "data": {
      "text/plain": [
       "array([[1, 6, 5],\n",
       "       [0, 7, 5],\n",
       "       [5, 3, 5]])"
      ]
     },
     "execution_count": 70,
     "metadata": {},
     "output_type": "execute_result"
    }
   ],
   "source": [
    "np.random.randint(0,9,(3,3))"
   ]
  },
  {
   "cell_type": "markdown",
   "id": "046228e1",
   "metadata": {},
   "source": [
    "![](./images/ran33.png)"
   ]
  },
  {
   "cell_type": "code",
   "execution_count": 73,
   "id": "3b239723",
   "metadata": {},
   "outputs": [
    {
     "data": {
      "text/plain": [
       "array([0.  , 0.25, 0.5 , 0.75, 1.  ])"
      ]
     },
     "execution_count": 73,
     "metadata": {},
     "output_type": "execute_result"
    }
   ],
   "source": [
    "np.linspace(0,1,5)"
   ]
  },
  {
   "cell_type": "markdown",
   "id": "f8bfcfe5",
   "metadata": {},
   "source": [
    "![](./images/linspace.png)"
   ]
  },
  {
   "cell_type": "code",
   "execution_count": 76,
   "id": "8f9346fa",
   "metadata": {},
   "outputs": [
    {
     "data": {
      "text/plain": [
       "0"
      ]
     },
     "execution_count": 76,
     "metadata": {},
     "output_type": "execute_result"
    }
   ],
   "source": [
    "z=np.arange(0,9).reshape(3,3)\n",
    "z[0,0]"
   ]
  },
  {
   "cell_type": "markdown",
   "id": "d90aebe1",
   "metadata": {},
   "source": [
    "![](./images/index.png)"
   ]
  },
  {
   "cell_type": "code",
   "execution_count": 79,
   "id": "34af5198",
   "metadata": {},
   "outputs": [
    {
     "data": {
      "text/plain": [
       "8"
      ]
     },
     "execution_count": 79,
     "metadata": {},
     "output_type": "execute_result"
    }
   ],
   "source": [
    "z[-1,-1]"
   ]
  },
  {
   "cell_type": "markdown",
   "id": "e8234f32",
   "metadata": {},
   "source": [
    "![](./images/index1.png)"
   ]
  },
  {
   "cell_type": "code",
   "execution_count": 82,
   "id": "3c51344d",
   "metadata": {},
   "outputs": [
    {
     "data": {
      "text/plain": [
       "array([3, 4, 5])"
      ]
     },
     "execution_count": 82,
     "metadata": {},
     "output_type": "execute_result"
    }
   ],
   "source": [
    "z[1]"
   ]
  },
  {
   "cell_type": "markdown",
   "id": "6382e4bc",
   "metadata": {},
   "source": [
    "![](./images/indexrow.png)"
   ]
  },
  {
   "cell_type": "code",
   "execution_count": 85,
   "id": "72617d62",
   "metadata": {},
   "outputs": [
    {
     "data": {
      "text/plain": [
       "array([6, 7, 8])"
      ]
     },
     "execution_count": 85,
     "metadata": {},
     "output_type": "execute_result"
    }
   ],
   "source": [
    "z[2]"
   ]
  },
  {
   "cell_type": "markdown",
   "id": "248e6374",
   "metadata": {},
   "source": [
    "![](./images/indexcol.png)"
   ]
  },
  {
   "cell_type": "code",
   "execution_count": 88,
   "id": "99c2adfb",
   "metadata": {},
   "outputs": [
    {
     "data": {
      "text/plain": [
       "array([[4, 5],\n",
       "       [7, 8]])"
      ]
     },
     "execution_count": 88,
     "metadata": {},
     "output_type": "execute_result"
    }
   ],
   "source": [
    "z[1:,1:]"
   ]
  },
  {
   "cell_type": "markdown",
   "id": "0850e35b",
   "metadata": {},
   "source": [
    "![](./images/indexgrid.png)"
   ]
  },
  {
   "cell_type": "markdown",
   "id": "0c1c3a97",
   "metadata": {},
   "source": [
    "## Your Turn\n"
   ]
  },
  {
   "cell_type": "markdown",
   "id": "02243240",
   "metadata": {},
   "source": [
    "![](./images/indexskip.png)"
   ]
  },
  {
   "cell_type": "markdown",
   "id": "08d0e6c3",
   "metadata": {},
   "source": [
    "![](./images/indexindex.png)"
   ]
  },
  {
   "cell_type": "code",
   "execution_count": 142,
   "id": "a80b69c8-98cc-4ad3-b6fb-5edf406fe1b1",
   "metadata": {},
   "outputs": [
    {
     "data": {
      "text/plain": [
       "array([[0, 2],\n",
       "       [6, 8]])"
      ]
     },
     "execution_count": 142,
     "metadata": {},
     "output_type": "execute_result"
    }
   ],
   "source": [
    "z1 = np.arange(0,9).reshape(3,3)\n",
    "z2 = [z1[0,0], z1[0,2], z1[2,0], z1[-1,-1]]\n",
    "np.array(z2).reshape(2,2)"
   ]
  },
  {
   "cell_type": "code",
   "execution_count": 120,
   "id": "dac799cf-9b9f-40b1-ba95-aa2261731fd2",
   "metadata": {},
   "outputs": [
    {
     "name": "stdout",
     "output_type": "stream",
     "text": [
      "result: [0, 5]\n"
     ]
    }
   ],
   "source": [
    "z1 = np.arange(0,9).reshape(3,3)\n",
    "z2 = [z1[0,0], z1[1,2]]\n",
    "print(f\"result: {z2}\")"
   ]
  },
  {
   "cell_type": "markdown",
   "id": "f66b58e4",
   "metadata": {},
   "source": [
    "### Exercise 2: Extracting Values from Arrays\n",
    "Task: Given the following 2D array:\n",
    "\n",
    "array = np.array([[1, 2, 3], [4, 5, 6], [7, 8, 9]])\n",
    "1. Extract the value 5 from the array.\n",
    "\n",
    "1. Extract the second row.\n",
    "\n",
    "1. Extract the third column.\n",
    "\n",
    "1. Extract the subarray [[2, 3], [5, 6]]."
   ]
  },
  {
   "cell_type": "code",
   "execution_count": 188,
   "id": "3a5050e1-3752-4bb0-bdb1-03087b556adb",
   "metadata": {},
   "outputs": [
    {
     "name": "stdout",
     "output_type": "stream",
     "text": [
      "Answer of number one: 5\n",
      "Answer of number two: [4 5 6]\n",
      "Answer of number three: [3 6 9]\n",
      "Answer of number four: [[2 3]\n",
      " [5 6]]\n"
     ]
    }
   ],
   "source": [
    "array = np.array([[1, 2, 3], [4, 5, 6], [7, 8, 9]])\n",
    "# Extract the value 5 from the array.\n",
    "one = array[1][1]\n",
    "print(f\"Answer of number one: {one}\")\n",
    "\n",
    "two = array[1]\n",
    "print(f\"Answer of number two: {two}\")\n",
    "\n",
    "three = array[:,2]\n",
    "print(f\"Answer of number three: {three}\")\n",
    "\n",
    "four = array[:2,1:]\n",
    "print(f\"Answer of number four: {four}\")"
   ]
  },
  {
   "cell_type": "markdown",
   "id": "4c63bfdd",
   "metadata": {},
   "source": [
    "### Examples on Broadcasting"
   ]
  },
  {
   "cell_type": "code",
   "execution_count": 190,
   "id": "8bc514ab",
   "metadata": {},
   "outputs": [
    {
     "data": {
      "text/plain": [
       "array([[1, 2, 3],\n",
       "       [4, 5, 6],\n",
       "       [7, 8, 9]])"
      ]
     },
     "execution_count": 190,
     "metadata": {},
     "output_type": "execute_result"
    }
   ],
   "source": [
    "z1=np.arange(0,9).reshape(3,3)\n",
    "z2=1\n",
    "z1+z2"
   ]
  },
  {
   "cell_type": "markdown",
   "id": "85d1db77",
   "metadata": {},
   "source": [
    "![](./images/broadcast.png)"
   ]
  },
  {
   "cell_type": "code",
   "execution_count": 193,
   "id": "d8642938",
   "metadata": {},
   "outputs": [
    {
     "data": {
      "text/plain": [
       "array([[2, 3, 4],\n",
       "       [4, 5, 6],\n",
       "       [6, 7, 8]])"
      ]
     },
     "execution_count": 193,
     "metadata": {},
     "output_type": "execute_result"
    }
   ],
   "source": [
    "z1=np.arange(9).reshape(3,3)\n",
    "z2=np.arange(3)[::-1].reshape(3,1)\n",
    "z1+z2"
   ]
  },
  {
   "cell_type": "markdown",
   "id": "de0f82f5",
   "metadata": {},
   "source": [
    "![](./images/broadcast2.png)"
   ]
  },
  {
   "cell_type": "code",
   "execution_count": 193,
   "id": "658b5ded-8799-4f22-bd66-ea0e915b8e48",
   "metadata": {},
   "outputs": [
    {
     "data": {
      "text/plain": [
       "array([[2, 3, 4],\n",
       "       [4, 5, 6],\n",
       "       [6, 7, 8]])"
      ]
     },
     "execution_count": 193,
     "metadata": {},
     "output_type": "execute_result"
    }
   ],
   "source": [
    "z1=np.arange(9).reshape(3,3)\n",
    "z2=np.arange(3)[::-1].reshape(3,1)\n",
    "z1+z2"
   ]
  },
  {
   "cell_type": "markdown",
   "id": "a71a9fc0",
   "metadata": {},
   "source": [
    "## Your Turn\n",
    "\n",
    "Generate the following outcome using broadcasting\n",
    "\n",
    "![](./images/broadcast3.png)\n",
    "![](./images/broadcast4.png)\n"
   ]
  },
  {
   "cell_type": "code",
   "execution_count": 215,
   "id": "b22caae2-b906-4218-987f-c7961c947742",
   "metadata": {},
   "outputs": [
    {
     "name": "stdout",
     "output_type": "stream",
     "text": [
      "number one: [[2 2 2]\n",
      " [5 5 5]\n",
      " [8 8 8]]\n",
      "number two: [[0 1 2]\n",
      " [1 2 3]\n",
      " [2 3 4]]\n"
     ]
    }
   ],
   "source": [
    "z1=np.arange(9).reshape(3,3)\n",
    "z2=np.array([2,1,0])\n",
    "print(f\"number one: {z1+z2}\")\n",
    "\n",
    "z1=np.arange(3).reshape(3,1)\n",
    "z2=np.arange(3).reshape(1,3)\n",
    "print(f\"number two: {z1+z2}\")"
   ]
  },
  {
   "cell_type": "markdown",
   "id": "2ba0963e",
   "metadata": {},
   "source": [
    "### Exercise 3: Array Manipulation\n",
    "Task: Given the following 1D array:\n",
    "\n",
    "array = np.array([10, 20, 30, 40, 50, 60, 70, 80, 90, 100])\n",
    "1. Reverse the array.\n",
    "\n",
    "1. Extract every second element from the array.\n",
    "\n",
    "1. Replace all elements greater than 50 with the value 99."
   ]
  },
  {
   "cell_type": "code",
   "execution_count": 263,
   "id": "95fc0027-6bee-4122-b583-94b13ff1d4ef",
   "metadata": {},
   "outputs": [
    {
     "name": "stdout",
     "output_type": "stream",
     "text": [
      "number one: [100  90  80  70  60  50  40  30  20  10]\n",
      "number two: [ 20  40  60  80 100]\n",
      "number three: [10 20 30 40 50 99 99 99 99 99]\n"
     ]
    }
   ],
   "source": [
    "array = np.array([10, 20, 30, 40, 50, 60, 70, 80, 90, 100])\n",
    "print(f\"number one: {array[::-1]}\")\n",
    "print(f\"number two: {array[1:10:2]}\")\n",
    "\n",
    "array[5::] = 99\n",
    "print(f\"number three: {array}\")"
   ]
  },
  {
   "cell_type": "markdown",
   "id": "d2577f2e",
   "metadata": {},
   "source": [
    "### Exercise 4: Advanced Array Operations\n",
    "Task: Given the following 2D array:\n",
    "\n",
    "array = np.array([[1, 2, 3], [4, 5, 6], [7, 8, 9]])\n",
    "1. Compute the sum of all elements in the array.\n",
    "\n",
    "1. Compute the sum of each row.\n",
    "\n",
    "1. Compute the mean of each column.\n",
    "\n",
    "1. Find the maximum value in the entire array."
   ]
  },
  {
   "cell_type": "code",
   "execution_count": 292,
   "id": "9d5b8806-f1e3-4136-897d-bab5d6100073",
   "metadata": {},
   "outputs": [
    {
     "name": "stdout",
     "output_type": "stream",
     "text": [
      "[[1 2 3]\n",
      " [4 5 6]\n",
      " [7 8 9]]\n",
      "number one: 45\n",
      "number two:\n",
      "1. 6\n",
      "2. 15\n",
      "3. 24\n",
      "number three:\n",
      "1. 4.0\n",
      "2. 5.0\n",
      "3. 6.0\n"
     ]
    }
   ],
   "source": [
    "array = np.array([[1, 2, 3], [4, 5, 6], [7, 8, 9]])\n",
    "print(array)\n",
    "\n",
    "sumArray = array.sum()\n",
    "print(f\"number one: {sumArray}\")\n",
    "\n",
    "sumRow1 = array[0].sum()\n",
    "sumRow2 = array[1].sum()\n",
    "sumRow3 = array[2].sum()\n",
    "print(f\"number two:\\n1. {sumRow1}\\n2. {sumRow2}\\n3. {sumRow3}\")\n",
    "\n",
    "sumColumn1 = array[:,0].sum()/3\n",
    "sumColumn2 = array[:,1].sum()/3\n",
    "sumColumn3 = array[:,2].sum()/3\n",
    "print(f\"number three:\\n1. {sumColumn1}\\n2. {sumColumn2}\\n3. {sumColumn3}\")\n",
    "\n"
   ]
  },
  {
   "cell_type": "markdown",
   "id": "dc885d25",
   "metadata": {},
   "source": [
    "### Exercise 5: Boolean Indexing\n",
    "Task: Given the following 1D array:\n",
    "\n",
    "```python\n",
    "array = np.array([10, 20, 30, 40, 50, 60, 70, 80, 90, 100])\n",
    "```\n",
    "1. Create a new array that contains only the elements greater than 50.\n",
    "\n",
    "1. Replace all elements less than 50 with 0."
   ]
  },
  {
   "cell_type": "code",
   "execution_count": null,
   "id": "bf910541",
   "metadata": {},
   "outputs": [],
   "source": []
  }
 ],
 "metadata": {
  "kernelspec": {
   "display_name": "Python 3 (ipykernel)",
   "language": "python",
   "name": "python3"
  },
  "language_info": {
   "codemirror_mode": {
    "name": "ipython",
    "version": 3
   },
   "file_extension": ".py",
   "mimetype": "text/x-python",
   "name": "python",
   "nbconvert_exporter": "python",
   "pygments_lexer": "ipython3",
   "version": "3.12.4"
  }
 },
 "nbformat": 4,
 "nbformat_minor": 5
}
